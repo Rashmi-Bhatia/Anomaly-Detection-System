{
  "cells": [
    {
      "cell_type": "code",
      "execution_count": null,
      "metadata": {
        "colab": {
          "base_uri": "https://localhost:8080/"
        },
        "id": "TEX5LG7RqptF",
        "outputId": "b20a67a1-d599-4f0e-c830-934daf81e07b"
      },
      "outputs": [
        {
          "output_type": "stream",
          "name": "stdout",
          "text": [
            "Collecting ipython-autotime\n",
            "  Downloading ipython_autotime-0.3.1-py2.py3-none-any.whl (6.8 kB)\n",
            "Requirement already satisfied: ipython in /usr/local/lib/python3.10/dist-packages (from ipython-autotime) (7.34.0)\n",
            "Requirement already satisfied: setuptools>=18.5 in /usr/local/lib/python3.10/dist-packages (from ipython->ipython-autotime) (67.7.2)\n",
            "Collecting jedi>=0.16 (from ipython->ipython-autotime)\n",
            "  Downloading jedi-0.19.0-py2.py3-none-any.whl (1.6 MB)\n",
            "\u001b[2K     \u001b[90m━━━━━━━━━━━━━━━━━━━━━━━━━━━━━━━━━━━━━━━━\u001b[0m \u001b[32m1.6/1.6 MB\u001b[0m \u001b[31m9.0 MB/s\u001b[0m eta \u001b[36m0:00:00\u001b[0m\n",
            "\u001b[?25hRequirement already satisfied: decorator in /usr/local/lib/python3.10/dist-packages (from ipython->ipython-autotime) (4.4.2)\n",
            "Requirement already satisfied: pickleshare in /usr/local/lib/python3.10/dist-packages (from ipython->ipython-autotime) (0.7.5)\n",
            "Requirement already satisfied: traitlets>=4.2 in /usr/local/lib/python3.10/dist-packages (from ipython->ipython-autotime) (5.7.1)\n",
            "Requirement already satisfied: prompt-toolkit!=3.0.0,!=3.0.1,<3.1.0,>=2.0.0 in /usr/local/lib/python3.10/dist-packages (from ipython->ipython-autotime) (3.0.39)\n",
            "Requirement already satisfied: pygments in /usr/local/lib/python3.10/dist-packages (from ipython->ipython-autotime) (2.16.1)\n",
            "Requirement already satisfied: backcall in /usr/local/lib/python3.10/dist-packages (from ipython->ipython-autotime) (0.2.0)\n",
            "Requirement already satisfied: matplotlib-inline in /usr/local/lib/python3.10/dist-packages (from ipython->ipython-autotime) (0.1.6)\n",
            "Requirement already satisfied: pexpect>4.3 in /usr/local/lib/python3.10/dist-packages (from ipython->ipython-autotime) (4.8.0)\n",
            "Requirement already satisfied: parso<0.9.0,>=0.8.3 in /usr/local/lib/python3.10/dist-packages (from jedi>=0.16->ipython->ipython-autotime) (0.8.3)\n",
            "Requirement already satisfied: ptyprocess>=0.5 in /usr/local/lib/python3.10/dist-packages (from pexpect>4.3->ipython->ipython-autotime) (0.7.0)\n",
            "Requirement already satisfied: wcwidth in /usr/local/lib/python3.10/dist-packages (from prompt-toolkit!=3.0.0,!=3.0.1,<3.1.0,>=2.0.0->ipython->ipython-autotime) (0.2.6)\n",
            "Installing collected packages: jedi, ipython-autotime\n",
            "Successfully installed ipython-autotime-0.3.1 jedi-0.19.0\n",
            "time: 276 µs (started: 2023-08-10 23:38:31 +00:00)\n"
          ]
        }
      ],
      "source": [
        "!pip install ipython-autotime\n",
        "%load_ext autotime"
      ]
    },
    {
      "cell_type": "code",
      "execution_count": null,
      "metadata": {
        "colab": {
          "base_uri": "https://localhost:8080/"
        },
        "id": "vqsngFT9pul0",
        "outputId": "22741125-bf16-47b5-9996-d71451fcd7fe"
      },
      "outputs": [
        {
          "output_type": "stream",
          "name": "stdout",
          "text": [
            "Mounted at /content/drive\n",
            "time: 24.4 s (started: 2023-08-10 23:38:31 +00:00)\n"
          ]
        }
      ],
      "source": [
        "from google.colab import drive\n",
        "drive.mount('/content/drive')"
      ]
    },
    {
      "cell_type": "code",
      "execution_count": null,
      "metadata": {
        "colab": {
          "base_uri": "https://localhost:8080/"
        },
        "id": "Q8G-sscol2MC",
        "outputId": "80f48f47-9f5d-4c88-d7e4-d49d3ab7aed8"
      },
      "outputs": [
        {
          "output_type": "stream",
          "name": "stdout",
          "text": [
            "(1309799, 82) (1309799,)\n",
            "{'BENIGN': 0, 'DNS': 1, 'LDAP': 2, 'MSSQL': 3, 'NTP': 4, 'NetBIOS': 5, 'Portmap': 6, 'SNMP': 7, 'SSDP': 8, 'Syn': 9, 'TFTP': 10, 'UDP': 11, 'UDPLag': 12, 'WebDDoS': 13}\n",
            "dict_keys(['fit_time', 'score_time', 'test_acc', 'train_acc', 'test_ps', 'train_ps', 'test_rs', 'train_rs', 'test_fs', 'train_fs'])\n",
            "Accuracy Score:  0.7510953977351885\n",
            "Precision Score:  0.755580592621157\n",
            "Recall Score:  0.7507607356402646\n",
            "F1 Score:  0.7301498795415515\n",
            "time: 4h 40min 57s (started: 2023-08-10 23:38:55 +00:00)\n"
          ]
        }
      ],
      "source": [
        "# Refer https://stackabuse.com/random-forest-algorithm-with-python-and-scikit-learn/\n",
        "# https://www.ritchieng.com/machine-learning-cross-validation/\n",
        "#https://scikit-learn.org/stable/modules/cross_validation.html#cross-validation\n",
        "#https://scikit-learn.org/stable/modules/generated/sklearn.model_selection.cross_validate.html\n",
        "\n",
        "import numpy as np\n",
        "import pandas as pd\n",
        "\n",
        "from sklearn.model_selection import train_test_split\n",
        "from sklearn.neural_network import MLPClassifier\n",
        "from sklearn.metrics import accuracy_score, precision_score, recall_score, f1_score, confusion_matrix\n",
        "from sklearn import preprocessing\n",
        "from sklearn.model_selection import cross_validate\n",
        "from sklearn.metrics import roc_auc_score\n",
        "from sklearn.metrics import make_scorer\n",
        "from sklearn.metrics import roc_auc_score\n",
        "#from sklearn.cross_validation import cross_val_score\n",
        "\n",
        "#from sklearn.model_selection import cross_val_predict\n",
        "\n",
        "# define columns set\n",
        "cols = ['Unnamed: 0', 'Source Port', 'Destination Port', 'Protocol', 'Flow Duration', 'Total Fwd Packets', 'Total Backward Packets', 'Total Length of Fwd Packets', 'Total Length of Bwd Packets', 'Fwd Packet Length Max', 'Fwd Packet Length Min', 'Fwd Packet Length Mean', 'Fwd Packet Length Std', 'Bwd Packet Length Max', 'Bwd Packet Length Min', 'Bwd Packet Length Mean', 'Bwd Packet Length Std', 'Flow Bytes/s', 'Flow Packets/s', 'Flow IAT Mean', 'Flow IAT Std', 'Flow IAT Max', 'Flow IAT Min', 'Fwd IAT Total', 'Fwd IAT Mean', 'Fwd IAT Std', 'Fwd IAT Max', 'Fwd IAT Min', 'Bwd IAT Total', 'Bwd IAT Mean', 'Bwd IAT Std', 'Bwd IAT Max', 'Bwd IAT Min', 'Fwd PSH Flags', 'Bwd PSH Flags', 'Fwd URG Flags', 'Bwd URG Flags', 'Fwd Header Length', 'Bwd Header Length', 'Fwd Packets/s', 'Bwd Packets/s', 'Min Packet Length', 'Max Packet Length', 'Packet Length Mean', 'Packet Length Std',\t 'Packet Length Variance', 'FIN Flag Count', 'SYN Flag Count', 'RST Flag Count', 'PSH Flag Count', 'ACK Flag Count', 'URG Flag Count', 'CWE Flag Count', 'ECE Flag Count', 'Down/Up Ratio', 'Average Packet Size', 'Avg Fwd Segment Size', 'Avg Bwd Segment Size', 'Fwd Header Length.1', 'Fwd Avg Bytes/Bulk', 'Fwd Avg Packets/Bulk', 'Fwd Avg Bulk Rate', 'Bwd Avg Bytes/Bulk', 'Bwd Avg Packets/Bulk', 'Bwd Avg Bulk Rate', 'Subflow Fwd Packets', 'Subflow Fwd Bytes', 'Subflow Bwd Packets', 'Subflow Bwd Bytes', 'Init_Win_bytes_forward', 'Init_Win_bytes_backward', 'act_data_pkt_fwd', 'min_seg_size_forward', 'Active Mean', 'Active Std', 'Active Max', 'Active Min', 'Idle Mean', 'Idle Std', 'Idle Max', 'Idle Min', 'Inbound', 'Label']\n",
        "df = pd.read_csv('/content/drive/MyDrive/Merged_83_pilotstudy.csv', low_memory=False, names=cols, skiprows=1, index_col=None)\n",
        "# low_memory=True in read_csv leads to non documented, silent errors\n",
        "\n",
        "# set Features and Label\n",
        "X = df.drop('Label', axis = 1)\n",
        "y = df['Label']\n",
        "print (X.shape, y.shape)\n",
        "#X = df.iloc[:, 0:80] # read first 80 columns starting index 0\n",
        "#y = df[['Label']] # read Label\n",
        "\n",
        "# Normalize X, because of -ve values\n",
        "scaler = preprocessing.MinMaxScaler()\n",
        "normalized_X = scaler.fit_transform(X)\n",
        "\n",
        "labelencoder = preprocessing.LabelEncoder()\n",
        "y = labelencoder.fit_transform(y)\n",
        "le_name_mapping = dict(zip(labelencoder.classes_, labelencoder.transform(labelencoder.classes_)))\n",
        "print(le_name_mapping)\n",
        "\n",
        "# create an instance of RandomForest Classifier\n",
        "#scoring1 = ['accuracy','precision_macro', 'recall_macro','f1_macro']\n",
        "classifier = MLPClassifier(hidden_layer_sizes = (128),activation='relu', max_iter=1000, early_stopping=False, learning_rate_init=0.001)\n",
        "\n",
        "#myscore = make_scorer(roc_auc_score, multi_class='ovr',needs_proba=True)\n",
        "scoring = {'acc': 'accuracy', 'ps': 'precision_macro', 'rs': 'recall_macro', 'fs': 'f1_macro'}\n",
        "scores = cross_validate(classifier, normalized_X, y, scoring=scoring, cv=5, return_train_score=True)\n",
        "#ROC_scores = cross_validate(classifier, normalized_X, y, scoring= myscore, cv=5)\n",
        "\n",
        "print(scores.keys())\n",
        "print('Accuracy Score: ', scores['test_acc'].mean())\n",
        "print('Precision Score: ', scores['test_ps'].mean())\n",
        "print('Recall Score: ', scores['test_rs'].mean())\n",
        "print('F1 Score: ', scores['test_fs'].mean())\n",
        "#print(crossval_scores.keys())\n",
        "#print('ROC-AUC Score: ', ROC_scores['test_score'].mean())\n"
      ]
    },
    {
      "cell_type": "code",
      "execution_count": null,
      "metadata": {
        "colab": {
          "base_uri": "https://localhost:8080/"
        },
        "id": "o9wxMa_p0dd5",
        "outputId": "b78060b9-f311-43cc-b2fc-1b7958e4ab6b"
      },
      "outputs": [
        {
          "output_type": "stream",
          "name": "stdout",
          "text": [
            "ROC-AUC Score:  0.9821109873667512\n",
            "time: 4h 16min 57s (started: 2023-08-11 04:19:53 +00:00)\n"
          ]
        }
      ],
      "source": [
        "myscore = make_scorer(roc_auc_score, multi_class='ovr',needs_proba=True)\n",
        "ROC_scores = cross_validate(classifier, normalized_X, y, scoring = myscore, cv=5)\n",
        "print('ROC-AUC Score: ', ROC_scores['test_score'].mean())"
      ]
    },
    {
      "cell_type": "code",
      "execution_count": null,
      "metadata": {
        "id": "A9uoywRwDAmy"
      },
      "outputs": [],
      "source": [
        "from sklearn.model_selection import cross_val_predict\n",
        "from sklearn.metrics import confusion_matrix\n",
        "y_pred = cross_val_predict(classifier, normalized_X, y, cv=5)\n",
        "conf_mat = confusion_matrix(y, y_pred)\n",
        "print(conf_mat)"
      ]
    },
    {
      "cell_type": "markdown",
      "metadata": {
        "id": "BHYkLnVWxmEU"
      },
      "source": [
        "https://stackoverflow.com/questions/60829057/how-to-get-multi-class-roc-auc-in-cross-validate-in-sklearn"
      ]
    },
    {
      "cell_type": "code",
      "execution_count": null,
      "metadata": {
        "id": "J0ql_Gy2EVMD"
      },
      "outputs": [],
      "source": [
        "import matplotlib.pyplot as plt\n",
        "import seaborn as sns\n",
        "y_classes = np.array([0,1,2,3,4,5,6,7,8,9,10,11,12,13])\n",
        "\n",
        "def cm_analysis(y_true, y_pred, labels, ymap=None, figsize=(12,12)):\n",
        "    \"\"\"\n",
        "    Generate matrix plot of confusion matrix with pretty annotations.\n",
        "    The plot image is saved to disk.\n",
        "    args:\n",
        "      y_true:    true label of the data, with shape (nsamples,)\n",
        "      y_pred:    prediction of the data, with shape (nsamples,)\n",
        "      filename:  filename of figure file to save\n",
        "      labels:    string array, name the order of class labels in the confusion matrix.\n",
        "                 use `clf.classes_` if using scikit-learn models.\n",
        "                 with shape (nclass,).\n",
        "      ymap:      dict: any -> string, length == nclass.\n",
        "                 if not None, map the labels & ys to more understandable strings.\n",
        "                 Caution: original y_true, y_pred and labels must align.\n",
        "      figsize:   the size of the figure plotted.\n",
        "    \"\"\"\n",
        "    if ymap is not None:\n",
        "        y_pred = [ymap[yi] for yi in y_pred]\n",
        "        y_true = [ymap[yi] for yi in y_true]\n",
        "        labels = [ymap[yi] for yi in labels]\n",
        "    cm = confusion_matrix(y, y_pred, labels=labels)\n",
        "    #cm_sum = np.sum(cm, axis=1, keepdims=True)\n",
        "    #cm_perc = cm / cm_sum.astype(float) * 100\n",
        "    annot = np.empty_like(cm).astype(str)\n",
        "    nrows, ncols = cm.shape\n",
        "    for i in range(nrows):\n",
        "        for j in range(ncols):\n",
        "            c = cm[i, j]\n",
        "          # p = cm_perc[i, j]\n",
        "            #if i == j:\n",
        "               # s = cm_sum[i]\n",
        "               # annot[i, j] = '%d' % (c)\n",
        "           # elif c == 0:\n",
        "               # annot[i, j] = ''\n",
        "            #else:\n",
        "            annot[i, j] = '%d' % (c)\n",
        "    cm = pd.DataFrame(cm, index=labels, columns=labels)\n",
        "    cm.index.name = 'Actual'\n",
        "    cm.columns.name = 'Predicted'\n",
        "    fig, ax = plt.subplots(figsize=figsize)\n",
        "    ax.set_title('Confusion Matrix for Naive Bayes')\n",
        "    sns.heatmap(cm, annot=annot, cmap='YlGnBu', fmt='', ax=ax)\n",
        "    filename = '/content/drive/MyDrive/CM83_MLP_0.01_EarlyStopping.png'\n",
        "    plt.savefig(filename)\n",
        "    plt.show()\n",
        "\n",
        "    FP = cm.sum(axis=0) - np.diag(cm)\n",
        "    FN = cm.sum(axis=1) - np.diag(cm)\n",
        "    TP = np.diag(cm)\n",
        "    TN = cm.sum() - (FP + FN + TP)\n",
        "\n",
        "    FP = FP.astype(float)\n",
        "    FN = FN.astype(float)\n",
        "    TP = TP.astype(float)\n",
        "    TN = TN.astype(float)\n",
        "\n",
        "    # Sensitivity, hit rate, recall, or true positive rate\n",
        "    TPR = TP/(TP+FN)\n",
        "    # Specificity or true negative rate\n",
        "    TNR = TN/(TN+FP)\n",
        "    # Precision or positive predictive value\n",
        "    PPV = TP/(TP+FP)\n",
        "    # Negative predictive value\n",
        "    NPV = TN/(TN+FN)\n",
        "    # Fall out or false positive rate\n",
        "    FPR = FP/(FP+TN)\n",
        "    # False negative rate\n",
        "    FNR = FN/(TP+FN)\n",
        "    # False discovery rate\n",
        "    FDR = FP/(TP+FP)\n",
        "    # Overall accuracy\n",
        "    ACC = (TP+TN)/(TP+FP+FN+TN)\n",
        "    print('FPR: ')\n",
        "    print(FPR)\n",
        "    print('TPR: ')\n",
        "    print(TPR)\n",
        "    #print(classifier.classes_)\n",
        "cm_analysis(y, y_pred, y_classes, ymap=None, figsize=(12,12))"
      ]
    }
  ],
  "metadata": {
    "accelerator": "TPU",
    "colab": {
      "machine_shape": "hm",
      "provenance": []
    },
    "kernelspec": {
      "display_name": "Python 3",
      "name": "python3"
    },
    "language_info": {
      "name": "python"
    }
  },
  "nbformat": 4,
  "nbformat_minor": 0
}